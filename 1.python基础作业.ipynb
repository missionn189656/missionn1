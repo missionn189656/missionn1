{
 "cells": [
  {
   "cell_type": "markdown",
   "metadata": {},
   "source": [
    "# 1.python基础作业"
   ]
  },
  {
   "cell_type": "markdown",
   "metadata": {},
   "source": [
    "1.1 type任意两个数值，输出float、int"
   ]
  },
  {
   "cell_type": "code",
   "execution_count": 1,
   "metadata": {},
   "outputs": [
    {
     "data": {
      "text/plain": [
       "float"
      ]
     },
     "execution_count": 1,
     "metadata": {},
     "output_type": "execute_result"
    }
   ],
   "source": [
    "type(2.3)"
   ]
  },
  {
   "cell_type": "code",
   "execution_count": 2,
   "metadata": {},
   "outputs": [
    {
     "data": {
      "text/plain": [
       "int"
      ]
     },
     "execution_count": 2,
     "metadata": {},
     "output_type": "execute_result"
    }
   ],
   "source": [
    "type(2)"
   ]
  },
  {
   "cell_type": "markdown",
   "metadata": {},
   "source": [
    "1.2给a、b、c赋值，输出结果为12，并判断a与b是否相等"
   ]
  },
  {
   "cell_type": "code",
   "execution_count": 3,
   "metadata": {},
   "outputs": [
    {
     "name": "stdout",
     "output_type": "stream",
     "text": [
      "12\n",
      "False\n"
     ]
    }
   ],
   "source": [
    "a = 1\n",
    "b = 2\n",
    "c = 9\n",
    "print(a + b + c)\n",
    "print(a == b)"
   ]
  },
  {
   "cell_type": "markdown",
   "metadata": {},
   "source": [
    "1.3要求用户输入1到100之间数字并判断，输入符合要求,如果是1-100以内的数字，输出“100以内的数字”，否则输出“区间以外的数字”。最后打印结果为100以内的数字。"
   ]
  },
  {
   "cell_type": "code",
   "execution_count": 4,
   "metadata": {
    "scrolled": true
   },
   "outputs": [
    {
     "name": "stdout",
     "output_type": "stream",
     "text": [
      "100以内的数字\n",
      "100以内的数字\n",
      "100以内的数字\n",
      "100以内的数字\n",
      "100以内的数字\n",
      "100以内的数字\n",
      "100以内的数字\n",
      "100以内的数字\n",
      "100以内的数字\n",
      "100以内的数字\n",
      "100以内的数字\n",
      "100以内的数字\n",
      "100以内的数字\n",
      "100以内的数字\n",
      "100以内的数字\n",
      "100以内的数字\n",
      "100以内的数字\n",
      "100以内的数字\n",
      "100以内的数字\n",
      "100以内的数字\n",
      "100以内的数字\n",
      "100以内的数字\n",
      "100以内的数字\n",
      "100以内的数字\n",
      "100以内的数字\n",
      "100以内的数字\n",
      "100以内的数字\n",
      "100以内的数字\n",
      "100以内的数字\n",
      "100以内的数字\n",
      "100以内的数字\n",
      "100以内的数字\n",
      "100以内的数字\n",
      "100以内的数字\n",
      "100以内的数字\n",
      "100以内的数字\n",
      "100以内的数字\n",
      "100以内的数字\n",
      "100以内的数字\n",
      "100以内的数字\n",
      "100以内的数字\n",
      "100以内的数字\n",
      "100以内的数字\n",
      "100以内的数字\n",
      "100以内的数字\n",
      "100以内的数字\n",
      "100以内的数字\n",
      "100以内的数字\n",
      "100以内的数字\n",
      "100以内的数字\n",
      "100以内的数字\n",
      "100以内的数字\n",
      "100以内的数字\n",
      "100以内的数字\n",
      "100以内的数字\n",
      "100以内的数字\n",
      "100以内的数字\n",
      "100以内的数字\n",
      "100以内的数字\n",
      "100以内的数字\n",
      "100以内的数字\n",
      "100以内的数字\n",
      "100以内的数字\n",
      "100以内的数字\n",
      "100以内的数字\n",
      "100以内的数字\n",
      "100以内的数字\n",
      "100以内的数字\n",
      "100以内的数字\n",
      "100以内的数字\n",
      "100以内的数字\n",
      "100以内的数字\n",
      "100以内的数字\n",
      "100以内的数字\n",
      "100以内的数字\n",
      "100以内的数字\n",
      "100以内的数字\n",
      "100以内的数字\n",
      "100以内的数字\n",
      "100以内的数字\n",
      "100以内的数字\n",
      "100以内的数字\n",
      "100以内的数字\n",
      "100以内的数字\n",
      "100以内的数字\n",
      "100以内的数字\n",
      "100以内的数字\n",
      "100以内的数字\n",
      "100以内的数字\n",
      "100以内的数字\n",
      "100以内的数字\n",
      "100以内的数字\n",
      "100以内的数字\n",
      "100以内的数字\n",
      "100以内的数字\n",
      "100以内的数字\n",
      "100以内的数字\n",
      "100以内的数字\n",
      "100以内的数字\n",
      "区间以外的数字\n",
      "[1, 2, 3, 4, 5, 6, 7, 8, 9, 10, 11, 12, 13, 14, 15, 16, 17, 18, 19, 20, 21, 22, 23, 24, 25, 26, 27, 28, 29, 30, 31, 32, 33, 34, 35, 36, 37, 38, 39, 40, 41, 42, 43, 44, 45, 46, 47, 48, 49, 50, 51, 52, 53, 54, 55, 56, 57, 58, 59, 60, 61, 62, 63, 64, 65, 66, 67, 68, 69, 70, 71, 72, 73, 74, 75, 76, 77, 78, 79, 80, 81, 82, 83, 84, 85, 86, 87, 88, 89, 90, 91, 92, 93, 94, 95, 96, 97, 98, 99]\n"
     ]
    }
   ],
   "source": [
    "l = []\n",
    "num = range(1,101)\n",
    "for i in num:\n",
    "    if (i < 100):\n",
    "        print('100以内的数字') \n",
    "        l.append(i)\n",
    "    else:\n",
    "        print('区间以外的数字')\n",
    "print(l)"
   ]
  },
  {
   "cell_type": "markdown",
   "metadata": {},
   "source": [
    "1.4   python单行注释和多行注解分别用什么?\n",
    "答：\n",
    "单行：#\n",
    "多行：'''\n",
    "     '''"
   ]
  }
 ],
 "metadata": {
  "kernelspec": {
   "display_name": "Python 3",
   "language": "python",
   "name": "python3"
  },
  "language_info": {
   "codemirror_mode": {
    "name": "ipython",
    "version": 3
   },
   "file_extension": ".py",
   "mimetype": "text/x-python",
   "name": "python",
   "nbconvert_exporter": "python",
   "pygments_lexer": "ipython3",
   "version": "3.7.0"
  }
 },
 "nbformat": 4,
 "nbformat_minor": 2
}
